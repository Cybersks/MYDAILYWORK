{
  "nbformat": 4,
  "nbformat_minor": 0,
  "metadata": {
    "colab": {
      "provenance": [],
      "authorship_tag": "ABX9TyOXdx7+Ffwyda0hXyDbaw66",
      "include_colab_link": true
    },
    "kernelspec": {
      "name": "python3",
      "display_name": "Python 3"
    },
    "language_info": {
      "name": "python"
    }
  },
  "cells": [
    {
      "cell_type": "markdown",
      "metadata": {
        "id": "view-in-github",
        "colab_type": "text"
      },
      "source": [
        "<a href=\"https://colab.research.google.com/github/Cybersks/MYDAILYWORK/blob/main/password%20generatorb_py.ipynb\" target=\"_parent\"><img src=\"https://colab.research.google.com/assets/colab-badge.svg\" alt=\"Open In Colab\"/></a>"
      ]
    },
    {
      "source": [
        "import random\n",
        "import string\n",
        "\n",
        "def generate_password(length=12):\n",
        "\n",
        "  #To select the characters.\n",
        "  characters = string.ascii_letters + string.digits + string.punctuation\n",
        "\n",
        "  # To generate the password.\n",
        "  password = ''.join(random.choice(characters) for i in range(length))\n",
        "\n",
        "  return password\n",
        "\n",
        "# To get the desired password length from the user.\n",
        "length = int(input(\"Enter the desired password length: \"))\n",
        "\n",
        "# Generateing a password.\n",
        "password = generate_password(length)\n",
        "\n",
        "# Printing the password and its length.\n",
        "print(\"Generated Password:\", password)\n",
        "print(\"Password Length:\", len(password))"
      ],
      "cell_type": "code",
      "metadata": {
        "colab": {
          "base_uri": "https://localhost:8080/"
        },
        "id": "A1KG9fqJNmeQ",
        "outputId": "b7ddd3e8-c9f1-4353-ad67-d5cb290b49cf"
      },
      "execution_count": 2,
      "outputs": [
        {
          "output_type": "stream",
          "name": "stdout",
          "text": [
            "Enter the desired password length: 20\n",
            "Generated Password: XZg6b<tGt4#NcP/5<1xE\n",
            "Password Length: 20\n"
          ]
        }
      ]
    }
  ]
}