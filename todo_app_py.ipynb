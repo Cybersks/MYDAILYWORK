{
  "nbformat": 4,
  "nbformat_minor": 0,
  "metadata": {
    "colab": {
      "provenance": [],
      "authorship_tag": "ABX9TyPR/OdO64OBtoNkkPQ24XD4",
      "include_colab_link": true
    },
    "kernelspec": {
      "name": "python3",
      "display_name": "Python 3"
    },
    "language_info": {
      "name": "python"
    }
  },
  "cells": [
    {
      "cell_type": "markdown",
      "metadata": {
        "id": "view-in-github",
        "colab_type": "text"
      },
      "source": [
        "<a href=\"https://colab.research.google.com/github/Cybersks/MYDAILYWORK/blob/main/todo_app_py.ipynb\" target=\"_parent\"><img src=\"https://colab.research.google.com/assets/colab-badge.svg\" alt=\"Open In Colab\"/></a>"
      ]
    },
    {
      "source": [
        "tasks = []\n",
        "\n",
        "def add_task():\n",
        "  title = input(\"Enter task title: \")\n",
        "  description = input(\"Enter task description: \")\n",
        "  priority = input(\"Enter task priority (high, medium, low): \")\n",
        "  due_date = input(\"Enter due date (YYYY-MM-DD): \")\n",
        "  tasks.append({\"title\": title, \"description\": description, \"priority\": priority, \"due_date\": due_date})\n",
        "  print(\"Task added!\")\n",
        "\n",
        "def view_tasks():\n",
        "  if not tasks:\n",
        "    print(\"No tasks in the list.\")\n",
        "  else:\n",
        "    for i, task in enumerate(tasks):\n",
        "      print(f\"{i+1}. {task['title']} - {task['description']} (Priority: {task['priority']}, Due: {task['due_date']})\")\n",
        "\n",
        "def complete_task():\n",
        "  view_tasks()\n",
        "  if tasks:\n",
        "    index = int(input(\"Enter number of task to complete: \")) - 1\n",
        "    if 0 <= index < len(tasks):\n",
        "      completed_task = tasks.pop(index)\n",
        "      print(f\"Task '{completed_task['title']}' completed!\")\n",
        "    else:\n",
        "      print(\"Invalid task number.\")\n",
        "\n",
        "while True:\n",
        "  print(\"\\nChoose an action:\")\n",
        "  print(\"1. Add task\")\n",
        "  print(\"2. View tasks\")\n",
        "  print(\"3. Complete task\")\n",
        "  print(\"4. Exit\")\n",
        "  choice = input(\"Enter your choice: \")\n",
        "\n",
        "  if choice == '1':\n",
        "    add_task()\n",
        "  elif choice == '2':\n",
        "    view_tasks()\n",
        "  elif choice == '3':\n",
        "    complete_task()\n",
        "  elif choice == '4':\n",
        "    break\n",
        "  else:\n",
        "    print(\"Invalid choice.\")"
      ],
      "cell_type": "code",
      "metadata": {
        "colab": {
          "base_uri": "https://localhost:8080/"
        },
        "id": "LwZdhTas7aml",
        "outputId": "ab2ef5ff-c1bd-456e-ce5f-fc7a8a2a353d"
      },
      "execution_count": 1,
      "outputs": [
        {
          "name": "stdout",
          "output_type": "stream",
          "text": [
            "\n",
            "Choose an action:\n",
            "1. Add task\n",
            "2. View tasks\n",
            "3. Complete task\n",
            "4. Exit\n",
            "Enter your choice: 1\n",
            "Enter task title: abc\n",
            "Enter task description: fgdgfc\n",
            "Enter task priority (high, medium, low): high\n",
            "Enter due date (YYYY-MM-DD): 2024-10-15\n",
            "Task added!\n",
            "\n",
            "Choose an action:\n",
            "1. Add task\n",
            "2. View tasks\n",
            "3. Complete task\n",
            "4. Exit\n",
            "Enter your choice: 4\n"
          ]
        }
      ]
    }
  ]
}