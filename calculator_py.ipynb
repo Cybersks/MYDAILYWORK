{
  "nbformat": 4,
  "nbformat_minor": 0,
  "metadata": {
    "colab": {
      "provenance": [],
      "authorship_tag": "ABX9TyPi9/I0bzSlLK7XBCInqEUj",
      "include_colab_link": true
    },
    "kernelspec": {
      "name": "python3",
      "display_name": "Python 3"
    },
    "language_info": {
      "name": "python"
    }
  },
  "cells": [
    {
      "cell_type": "markdown",
      "metadata": {
        "id": "view-in-github",
        "colab_type": "text"
      },
      "source": [
        "<a href=\"https://colab.research.google.com/github/Cybersks/MYDAILYWORK/blob/main/calculator_py.ipynb\" target=\"_parent\"><img src=\"https://colab.research.google.com/assets/colab-badge.svg\" alt=\"Open In Colab\"/></a>"
      ]
    },
    {
      "source": [
        "# Define a function for each operation\n",
        "def add(x, y):\n",
        "    return x + y\n",
        "\n",
        "def sub(x, y):\n",
        "    return x - y\n",
        "\n",
        "def mul(x, y):\n",
        "    return x * y\n",
        "\n",
        "def div(x, y):\n",
        "    if y == 0:\n",
        "        return \"Error: Division by zero!\"\n",
        "    return x / y\n",
        "\n",
        "# Prompt the user to input two numbers and an operation choice\n",
        "num1 = float(input(\"Enter the first number: \"))\n",
        "num2 = float(input(\"Enter the second number: \"))\n",
        "operation = input(\"Enter the operation (+, -, *, /): \")\n",
        "\n",
        "# Perform the calculation based on the operation choice\n",
        "if operation == \"+\":\n",
        "    result = add(num1, num2)\n",
        "elif operation == \"-\":\n",
        "    result = sub(num1, num2)\n",
        "elif operation == \"*\":\n",
        "    result = mul(num1, num2)\n",
        "elif operation == \"/\":\n",
        "    result = div(num1, num2)\n",
        "else:\n",
        "    result = \"Error: Invalid operation!\"\n",
        "\n",
        "# Display the result\n",
        "print(\"Result:\", result)"
      ],
      "cell_type": "code",
      "metadata": {
        "colab": {
          "base_uri": "https://localhost:8080/"
        },
        "id": "6lly6ZOSHwrM",
        "outputId": "8d907c64-bd53-47b9-ba47-e2498181e7e0"
      },
      "execution_count": 17,
      "outputs": [
        {
          "output_type": "stream",
          "name": "stdout",
          "text": [
            "Enter the first number: 14\n",
            "Enter the second number: 22\n",
            "Enter the operation (+, -, *, /): *\n",
            "Result: 308.0\n"
          ]
        }
      ]
    }
  ]
}